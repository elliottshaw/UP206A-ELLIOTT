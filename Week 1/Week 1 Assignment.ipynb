{
 "cells": [
  {
   "cell_type": "markdown",
   "id": "2334bb5e-71de-4dcf-9e4b-ae877a0ef597",
   "metadata": {},
   "source": [
    "### Importing a Dataset into Jupyter"
   ]
  },
  {
   "cell_type": "markdown",
   "id": "3a3a8a4f-7396-45ce-9f58-b77a8ccf7a01",
   "metadata": {},
   "source": [
    "In this notebook I'll be importing a City of Los Angeles dataset of street light locations. After importing the data I'll conduct a series of explorations using the following commands:"
   ]
  },
  {
   "cell_type": "markdown",
   "id": "0469cb79-f677-4216-a5fe-21dc364adc9a",
   "metadata": {},
   "source": [
    ">.shape <br>\n",
    ".info <br>\n",
    ".head() <br>\n",
    ".plot() <br>\n",
    ".value_counts() <br>"
   ]
  },
  {
   "cell_type": "markdown",
   "id": "4e6ac67f-1b0a-4655-aa15-5c189396c4b3",
   "metadata": {},
   "source": [
    "Importing the geopandas module:"
   ]
  },
  {
   "cell_type": "code",
   "execution_count": 3,
   "id": "84c2a5db-b57a-4935-bdce-8025707df646",
   "metadata": {},
   "outputs": [],
   "source": [
    "import geopandas as gpd"
   ]
  },
  {
   "cell_type": "markdown",
   "id": "935a1e72-5f11-4088-bd67-adc89869ce78",
   "metadata": {},
   "source": [
    "Assigning a name to the dataset, and reading the data through the geopandas module:"
   ]
  },
  {
   "cell_type": "code",
   "execution_count": 4,
   "id": "c4c5c7d1-e263-4153-bd05-1262084e1bf7",
   "metadata": {},
   "outputs": [],
   "source": [
    "streetlights = gpd.read_file('Data/Street_Lights.csv')"
   ]
  },
  {
   "cell_type": "markdown",
   "id": "68fe4247-f6cf-4e61-a1c1-025e79ae3ece",
   "metadata": {},
   "source": [
    "Then, asking Pandas to tell me what type of data I am working with:"
   ]
  },
  {
   "cell_type": "code",
   "execution_count": 5,
   "id": "ca752369-c067-4974-9919-27c215a9b2c5",
   "metadata": {},
   "outputs": [
    {
     "data": {
      "text/plain": [
       "geopandas.geodataframe.GeoDataFrame"
      ]
     },
     "execution_count": 5,
     "metadata": {},
     "output_type": "execute_result"
    }
   ],
   "source": [
    "type(streetlights)\n"
   ]
  },
  {
   "cell_type": "markdown",
   "id": "b93fe4c7-8fbe-40ad-a55d-1aed2afb5239",
   "metadata": {},
   "source": [
    "Next, I'm going to ask Pandas to display the file info for the dataset. Admittedly its difficult for me to read through this, but it might have something to do with my dataset and the information it contains."
   ]
  },
  {
   "cell_type": "code",
   "execution_count": 6,
   "id": "fd894130-06d0-4671-bddd-3412a5bced32",
   "metadata": {},
   "outputs": [
    {
     "data": {
      "text/plain": [
       "<bound method DataFrame.info of                         X                 Y OBJECTID    SLID      STLID  \\\n",
       "0       -118.477905148938  33.9916153921433        1  198740  SL5552-53   \n",
       "1       -118.478066569253  33.9917990985242        2  198741  SL5552-54   \n",
       "2       -118.478200010311  33.9919508543017        3  198742  SL5552-55   \n",
       "3       -118.478332367278  33.9920999438872        4  198743  SL5552-56   \n",
       "4       -118.478485959006  33.9922816063203        5  198744  SL5552-57   \n",
       "...                   ...               ...      ...     ...        ...   \n",
       "218619   -118.23393097902  34.0651380688006   218620  239126   P38753-9   \n",
       "218620  -118.233651911605  34.0649668674503   218621  239127  P38753-10   \n",
       "218621  -118.345298462335  34.0870249517714   218622  239128   P38911-1   \n",
       "218622  -118.231179942066  34.0539275368247   218623  239129  SL9986-13   \n",
       "218623  -118.287203272715  34.0906283004542   218624  999999  LU-1-4-22   \n",
       "\n",
       "           STATUS LASTPLAN                  POSTDESC    LAMPA    LAMPB LAMPC  \\\n",
       "0         AsBuilt   SL7332  25' Ameron Rnd Conc Pole  55W LED  55W LED         \n",
       "1         AsBuilt   SL7332  25' Ameron Rnd Conc Pole  55W LED  55W LED         \n",
       "2         AsBuilt   SL7332  25' Ameron Rnd Conc Pole  55W LED  55W LED         \n",
       "3         AsBuilt   SL7332  25' Ameron Rnd Conc Pole  55W LED  55W LED         \n",
       "4         AsBuilt   SL7332  25' Ameron Rnd Conc Pole  55W LED  55W LED         \n",
       "...           ...      ...                       ...      ...      ...   ...   \n",
       "218619  Energized   P38753                    CD855A  34W LED                  \n",
       "218620  Energized   P38753                    CD851A  27W LED                  \n",
       "218621    AsBuilt   P38911                    CD855A  34W LED                  \n",
       "218622  Energized   SL9986                    CD953C  80W LED                  \n",
       "218623                                                                         \n",
       "\n",
       "       LAMPD LAMPE LAMPF                         TOOLTIP  \\\n",
       "0                         Post: 25' Ameron Rnd Conc Pole   \n",
       "1                         Post: 25' Ameron Rnd Conc Pole   \n",
       "2                         Post: 25' Ameron Rnd Conc Pole   \n",
       "3                         Post: 25' Ameron Rnd Conc Pole   \n",
       "4                         Post: 25' Ameron Rnd Conc Pole   \n",
       "...      ...   ...   ...                             ...   \n",
       "218619                                      Post: CD855A   \n",
       "218620                                      Post: CD851A   \n",
       "218621                                      Post: CD855A   \n",
       "218622                                      Post: CD953C   \n",
       "218623                                           Post:     \n",
       "\n",
       "                                               NLA_URL geometry  \n",
       "0       navigatela/reports/street_lights.cfm?PK=198740     None  \n",
       "1       navigatela/reports/street_lights.cfm?PK=198741     None  \n",
       "2       navigatela/reports/street_lights.cfm?PK=198742     None  \n",
       "3       navigatela/reports/street_lights.cfm?PK=198743     None  \n",
       "4       navigatela/reports/street_lights.cfm?PK=198744     None  \n",
       "...                                                ...      ...  \n",
       "218619  navigatela/reports/street_lights.cfm?PK=239126     None  \n",
       "218620  navigatela/reports/street_lights.cfm?PK=239127     None  \n",
       "218621  navigatela/reports/street_lights.cfm?PK=239128     None  \n",
       "218622  navigatela/reports/street_lights.cfm?PK=239129     None  \n",
       "218623  navigatela/reports/street_lights.cfm?PK=999999     None  \n",
       "\n",
       "[218624 rows x 17 columns]>"
      ]
     },
     "execution_count": 6,
     "metadata": {},
     "output_type": "execute_result"
    }
   ],
   "source": [
    "streetlights.info"
   ]
  },
  {
   "cell_type": "markdown",
   "id": "e7cb57d2-b900-45a7-879c-adfad2517e5d",
   "metadata": {},
   "source": [
    "Next, I will ask Pandas to tell me how many rows and columns my dataset has (rows, columns)"
   ]
  },
  {
   "cell_type": "code",
   "execution_count": 7,
   "id": "e61a76aa-2526-42f1-a928-4c65826ae60d",
   "metadata": {},
   "outputs": [
    {
     "data": {
      "text/plain": [
       "(218624, 17)"
      ]
     },
     "execution_count": 7,
     "metadata": {},
     "output_type": "execute_result"
    }
   ],
   "source": [
    "streetlights.shape"
   ]
  },
  {
   "cell_type": "markdown",
   "id": "9f247626-fbf5-4c2b-938a-4f80c42910c9",
   "metadata": {},
   "source": [
    "Then, display the first 5 rows of data:"
   ]
  },
  {
   "cell_type": "code",
   "execution_count": 8,
   "id": "a329ef64-42ea-4a5f-a750-58dd6d72e7e1",
   "metadata": {},
   "outputs": [
    {
     "data": {
      "text/html": [
       "<div>\n",
       "<style scoped>\n",
       "    .dataframe tbody tr th:only-of-type {\n",
       "        vertical-align: middle;\n",
       "    }\n",
       "\n",
       "    .dataframe tbody tr th {\n",
       "        vertical-align: top;\n",
       "    }\n",
       "\n",
       "    .dataframe thead th {\n",
       "        text-align: right;\n",
       "    }\n",
       "</style>\n",
       "<table border=\"1\" class=\"dataframe\">\n",
       "  <thead>\n",
       "    <tr style=\"text-align: right;\">\n",
       "      <th></th>\n",
       "      <th>X</th>\n",
       "      <th>Y</th>\n",
       "      <th>OBJECTID</th>\n",
       "      <th>SLID</th>\n",
       "      <th>STLID</th>\n",
       "      <th>STATUS</th>\n",
       "      <th>LASTPLAN</th>\n",
       "      <th>POSTDESC</th>\n",
       "      <th>LAMPA</th>\n",
       "      <th>LAMPB</th>\n",
       "      <th>LAMPC</th>\n",
       "      <th>LAMPD</th>\n",
       "      <th>LAMPE</th>\n",
       "      <th>LAMPF</th>\n",
       "      <th>TOOLTIP</th>\n",
       "      <th>NLA_URL</th>\n",
       "      <th>geometry</th>\n",
       "    </tr>\n",
       "  </thead>\n",
       "  <tbody>\n",
       "    <tr>\n",
       "      <th>0</th>\n",
       "      <td>-118.477905148938</td>\n",
       "      <td>33.9916153921433</td>\n",
       "      <td>1</td>\n",
       "      <td>198740</td>\n",
       "      <td>SL5552-53</td>\n",
       "      <td>AsBuilt</td>\n",
       "      <td>SL7332</td>\n",
       "      <td>25' Ameron Rnd Conc Pole</td>\n",
       "      <td>55W LED</td>\n",
       "      <td>55W LED</td>\n",
       "      <td></td>\n",
       "      <td></td>\n",
       "      <td></td>\n",
       "      <td></td>\n",
       "      <td>Post: 25' Ameron Rnd Conc Pole</td>\n",
       "      <td>navigatela/reports/street_lights.cfm?PK=198740</td>\n",
       "      <td>None</td>\n",
       "    </tr>\n",
       "    <tr>\n",
       "      <th>1</th>\n",
       "      <td>-118.478066569253</td>\n",
       "      <td>33.9917990985242</td>\n",
       "      <td>2</td>\n",
       "      <td>198741</td>\n",
       "      <td>SL5552-54</td>\n",
       "      <td>AsBuilt</td>\n",
       "      <td>SL7332</td>\n",
       "      <td>25' Ameron Rnd Conc Pole</td>\n",
       "      <td>55W LED</td>\n",
       "      <td>55W LED</td>\n",
       "      <td></td>\n",
       "      <td></td>\n",
       "      <td></td>\n",
       "      <td></td>\n",
       "      <td>Post: 25' Ameron Rnd Conc Pole</td>\n",
       "      <td>navigatela/reports/street_lights.cfm?PK=198741</td>\n",
       "      <td>None</td>\n",
       "    </tr>\n",
       "    <tr>\n",
       "      <th>2</th>\n",
       "      <td>-118.478200010311</td>\n",
       "      <td>33.9919508543017</td>\n",
       "      <td>3</td>\n",
       "      <td>198742</td>\n",
       "      <td>SL5552-55</td>\n",
       "      <td>AsBuilt</td>\n",
       "      <td>SL7332</td>\n",
       "      <td>25' Ameron Rnd Conc Pole</td>\n",
       "      <td>55W LED</td>\n",
       "      <td>55W LED</td>\n",
       "      <td></td>\n",
       "      <td></td>\n",
       "      <td></td>\n",
       "      <td></td>\n",
       "      <td>Post: 25' Ameron Rnd Conc Pole</td>\n",
       "      <td>navigatela/reports/street_lights.cfm?PK=198742</td>\n",
       "      <td>None</td>\n",
       "    </tr>\n",
       "    <tr>\n",
       "      <th>3</th>\n",
       "      <td>-118.478332367278</td>\n",
       "      <td>33.9920999438872</td>\n",
       "      <td>4</td>\n",
       "      <td>198743</td>\n",
       "      <td>SL5552-56</td>\n",
       "      <td>AsBuilt</td>\n",
       "      <td>SL7332</td>\n",
       "      <td>25' Ameron Rnd Conc Pole</td>\n",
       "      <td>55W LED</td>\n",
       "      <td>55W LED</td>\n",
       "      <td></td>\n",
       "      <td></td>\n",
       "      <td></td>\n",
       "      <td></td>\n",
       "      <td>Post: 25' Ameron Rnd Conc Pole</td>\n",
       "      <td>navigatela/reports/street_lights.cfm?PK=198743</td>\n",
       "      <td>None</td>\n",
       "    </tr>\n",
       "    <tr>\n",
       "      <th>4</th>\n",
       "      <td>-118.478485959006</td>\n",
       "      <td>33.9922816063203</td>\n",
       "      <td>5</td>\n",
       "      <td>198744</td>\n",
       "      <td>SL5552-57</td>\n",
       "      <td>AsBuilt</td>\n",
       "      <td>SL7332</td>\n",
       "      <td>25' Ameron Rnd Conc Pole</td>\n",
       "      <td>55W LED</td>\n",
       "      <td>55W LED</td>\n",
       "      <td></td>\n",
       "      <td></td>\n",
       "      <td></td>\n",
       "      <td></td>\n",
       "      <td>Post: 25' Ameron Rnd Conc Pole</td>\n",
       "      <td>navigatela/reports/street_lights.cfm?PK=198744</td>\n",
       "      <td>None</td>\n",
       "    </tr>\n",
       "  </tbody>\n",
       "</table>\n",
       "</div>"
      ],
      "text/plain": [
       "                   X                 Y OBJECTID    SLID      STLID   STATUS  \\\n",
       "0  -118.477905148938  33.9916153921433        1  198740  SL5552-53  AsBuilt   \n",
       "1  -118.478066569253  33.9917990985242        2  198741  SL5552-54  AsBuilt   \n",
       "2  -118.478200010311  33.9919508543017        3  198742  SL5552-55  AsBuilt   \n",
       "3  -118.478332367278  33.9920999438872        4  198743  SL5552-56  AsBuilt   \n",
       "4  -118.478485959006  33.9922816063203        5  198744  SL5552-57  AsBuilt   \n",
       "\n",
       "  LASTPLAN                  POSTDESC    LAMPA    LAMPB LAMPC LAMPD LAMPE  \\\n",
       "0   SL7332  25' Ameron Rnd Conc Pole  55W LED  55W LED                     \n",
       "1   SL7332  25' Ameron Rnd Conc Pole  55W LED  55W LED                     \n",
       "2   SL7332  25' Ameron Rnd Conc Pole  55W LED  55W LED                     \n",
       "3   SL7332  25' Ameron Rnd Conc Pole  55W LED  55W LED                     \n",
       "4   SL7332  25' Ameron Rnd Conc Pole  55W LED  55W LED                     \n",
       "\n",
       "  LAMPF                         TOOLTIP  \\\n",
       "0        Post: 25' Ameron Rnd Conc Pole   \n",
       "1        Post: 25' Ameron Rnd Conc Pole   \n",
       "2        Post: 25' Ameron Rnd Conc Pole   \n",
       "3        Post: 25' Ameron Rnd Conc Pole   \n",
       "4        Post: 25' Ameron Rnd Conc Pole   \n",
       "\n",
       "                                          NLA_URL geometry  \n",
       "0  navigatela/reports/street_lights.cfm?PK=198740     None  \n",
       "1  navigatela/reports/street_lights.cfm?PK=198741     None  \n",
       "2  navigatela/reports/street_lights.cfm?PK=198742     None  \n",
       "3  navigatela/reports/street_lights.cfm?PK=198743     None  \n",
       "4  navigatela/reports/street_lights.cfm?PK=198744     None  "
      ]
     },
     "execution_count": 8,
     "metadata": {},
     "output_type": "execute_result"
    }
   ],
   "source": [
    "streetlights.head()"
   ]
  },
  {
   "cell_type": "markdown",
   "id": "d34f2671-2350-4d6a-80ae-f9d32e70a564",
   "metadata": {},
   "source": [
    "and the last 5 rows of data:"
   ]
  },
  {
   "cell_type": "code",
   "execution_count": 11,
   "id": "2a567a61-30d6-4a32-96e6-072bf2e49d9d",
   "metadata": {},
   "outputs": [
    {
     "data": {
      "text/html": [
       "<div>\n",
       "<style scoped>\n",
       "    .dataframe tbody tr th:only-of-type {\n",
       "        vertical-align: middle;\n",
       "    }\n",
       "\n",
       "    .dataframe tbody tr th {\n",
       "        vertical-align: top;\n",
       "    }\n",
       "\n",
       "    .dataframe thead th {\n",
       "        text-align: right;\n",
       "    }\n",
       "</style>\n",
       "<table border=\"1\" class=\"dataframe\">\n",
       "  <thead>\n",
       "    <tr style=\"text-align: right;\">\n",
       "      <th></th>\n",
       "      <th>X</th>\n",
       "      <th>Y</th>\n",
       "      <th>OBJECTID</th>\n",
       "      <th>SLID</th>\n",
       "      <th>STLID</th>\n",
       "      <th>STATUS</th>\n",
       "      <th>LASTPLAN</th>\n",
       "      <th>POSTDESC</th>\n",
       "      <th>LAMPA</th>\n",
       "      <th>LAMPB</th>\n",
       "      <th>LAMPC</th>\n",
       "      <th>LAMPD</th>\n",
       "      <th>LAMPE</th>\n",
       "      <th>LAMPF</th>\n",
       "      <th>TOOLTIP</th>\n",
       "      <th>NLA_URL</th>\n",
       "      <th>geometry</th>\n",
       "    </tr>\n",
       "  </thead>\n",
       "  <tbody>\n",
       "    <tr>\n",
       "      <th>218619</th>\n",
       "      <td>-118.23393097902</td>\n",
       "      <td>34.0651380688006</td>\n",
       "      <td>218620</td>\n",
       "      <td>239126</td>\n",
       "      <td>P38753-9</td>\n",
       "      <td>Energized</td>\n",
       "      <td>P38753</td>\n",
       "      <td>CD855A</td>\n",
       "      <td>34W LED</td>\n",
       "      <td></td>\n",
       "      <td></td>\n",
       "      <td></td>\n",
       "      <td></td>\n",
       "      <td></td>\n",
       "      <td>Post: CD855A</td>\n",
       "      <td>navigatela/reports/street_lights.cfm?PK=239126</td>\n",
       "      <td>None</td>\n",
       "    </tr>\n",
       "    <tr>\n",
       "      <th>218620</th>\n",
       "      <td>-118.233651911605</td>\n",
       "      <td>34.0649668674503</td>\n",
       "      <td>218621</td>\n",
       "      <td>239127</td>\n",
       "      <td>P38753-10</td>\n",
       "      <td>Energized</td>\n",
       "      <td>P38753</td>\n",
       "      <td>CD851A</td>\n",
       "      <td>27W LED</td>\n",
       "      <td></td>\n",
       "      <td></td>\n",
       "      <td></td>\n",
       "      <td></td>\n",
       "      <td></td>\n",
       "      <td>Post: CD851A</td>\n",
       "      <td>navigatela/reports/street_lights.cfm?PK=239127</td>\n",
       "      <td>None</td>\n",
       "    </tr>\n",
       "    <tr>\n",
       "      <th>218621</th>\n",
       "      <td>-118.345298462335</td>\n",
       "      <td>34.0870249517714</td>\n",
       "      <td>218622</td>\n",
       "      <td>239128</td>\n",
       "      <td>P38911-1</td>\n",
       "      <td>AsBuilt</td>\n",
       "      <td>P38911</td>\n",
       "      <td>CD855A</td>\n",
       "      <td>34W LED</td>\n",
       "      <td></td>\n",
       "      <td></td>\n",
       "      <td></td>\n",
       "      <td></td>\n",
       "      <td></td>\n",
       "      <td>Post: CD855A</td>\n",
       "      <td>navigatela/reports/street_lights.cfm?PK=239128</td>\n",
       "      <td>None</td>\n",
       "    </tr>\n",
       "    <tr>\n",
       "      <th>218622</th>\n",
       "      <td>-118.231179942066</td>\n",
       "      <td>34.0539275368247</td>\n",
       "      <td>218623</td>\n",
       "      <td>239129</td>\n",
       "      <td>SL9986-13</td>\n",
       "      <td>Energized</td>\n",
       "      <td>SL9986</td>\n",
       "      <td>CD953C</td>\n",
       "      <td>80W LED</td>\n",
       "      <td></td>\n",
       "      <td></td>\n",
       "      <td></td>\n",
       "      <td></td>\n",
       "      <td></td>\n",
       "      <td>Post: CD953C</td>\n",
       "      <td>navigatela/reports/street_lights.cfm?PK=239129</td>\n",
       "      <td>None</td>\n",
       "    </tr>\n",
       "    <tr>\n",
       "      <th>218623</th>\n",
       "      <td>-118.287203272715</td>\n",
       "      <td>34.0906283004542</td>\n",
       "      <td>218624</td>\n",
       "      <td>999999</td>\n",
       "      <td>LU-1-4-22</td>\n",
       "      <td></td>\n",
       "      <td></td>\n",
       "      <td></td>\n",
       "      <td></td>\n",
       "      <td></td>\n",
       "      <td></td>\n",
       "      <td></td>\n",
       "      <td></td>\n",
       "      <td></td>\n",
       "      <td>Post:</td>\n",
       "      <td>navigatela/reports/street_lights.cfm?PK=999999</td>\n",
       "      <td>None</td>\n",
       "    </tr>\n",
       "  </tbody>\n",
       "</table>\n",
       "</div>"
      ],
      "text/plain": [
       "                        X                 Y OBJECTID    SLID      STLID  \\\n",
       "218619   -118.23393097902  34.0651380688006   218620  239126   P38753-9   \n",
       "218620  -118.233651911605  34.0649668674503   218621  239127  P38753-10   \n",
       "218621  -118.345298462335  34.0870249517714   218622  239128   P38911-1   \n",
       "218622  -118.231179942066  34.0539275368247   218623  239129  SL9986-13   \n",
       "218623  -118.287203272715  34.0906283004542   218624  999999  LU-1-4-22   \n",
       "\n",
       "           STATUS LASTPLAN POSTDESC    LAMPA LAMPB LAMPC LAMPD LAMPE LAMPF  \\\n",
       "218619  Energized   P38753   CD855A  34W LED                                 \n",
       "218620  Energized   P38753   CD851A  27W LED                                 \n",
       "218621    AsBuilt   P38911   CD855A  34W LED                                 \n",
       "218622  Energized   SL9986   CD953C  80W LED                                 \n",
       "218623                                                                       \n",
       "\n",
       "             TOOLTIP                                         NLA_URL geometry  \n",
       "218619  Post: CD855A  navigatela/reports/street_lights.cfm?PK=239126     None  \n",
       "218620  Post: CD851A  navigatela/reports/street_lights.cfm?PK=239127     None  \n",
       "218621  Post: CD855A  navigatela/reports/street_lights.cfm?PK=239128     None  \n",
       "218622  Post: CD953C  navigatela/reports/street_lights.cfm?PK=239129     None  \n",
       "218623       Post:    navigatela/reports/street_lights.cfm?PK=999999     None  "
      ]
     },
     "execution_count": 11,
     "metadata": {},
     "output_type": "execute_result"
    }
   ],
   "source": [
    "streetlights.tail()"
   ]
  },
  {
   "cell_type": "code",
   "execution_count": 15,
   "id": "c07e42f6-f715-4e08-b069-3556d114b663",
   "metadata": {},
   "outputs": [
    {
     "data": {
      "text/plain": [
       "['X',\n",
       " 'Y',\n",
       " 'OBJECTID',\n",
       " 'SLID',\n",
       " 'STLID',\n",
       " 'STATUS',\n",
       " 'LASTPLAN',\n",
       " 'POSTDESC',\n",
       " 'LAMPA',\n",
       " 'LAMPB',\n",
       " 'LAMPC',\n",
       " 'LAMPD',\n",
       " 'LAMPE',\n",
       " 'LAMPF',\n",
       " 'TOOLTIP',\n",
       " 'NLA_URL',\n",
       " 'geometry']"
      ]
     },
     "execution_count": 15,
     "metadata": {},
     "output_type": "execute_result"
    }
   ],
   "source": [
    "streetlights.columns.to_list()"
   ]
  },
  {
   "cell_type": "markdown",
   "id": "4fd09f44-b289-481f-a172-3e7859bf7820",
   "metadata": {},
   "source": [
    "Here I am asking to display (5) random samples from the STATUS column in my dataset:"
   ]
  },
  {
   "cell_type": "code",
   "execution_count": 22,
   "id": "c54dd5ad-5df9-4e32-97c0-eafded84936c",
   "metadata": {},
   "outputs": [
    {
     "data": {
      "text/plain": [
       "171288    AsBuilt\n",
       "153880    AsBuilt\n",
       "62832     AsBuilt\n",
       "132299    AsBuilt\n",
       "62372     AsBuilt\n",
       "Name: STATUS, dtype: object"
      ]
     },
     "execution_count": 22,
     "metadata": {},
     "output_type": "execute_result"
    }
   ],
   "source": [
    "streetlights['STATUS'].sample(5)"
   ]
  },
  {
   "cell_type": "code",
   "execution_count": 32,
   "id": "61ef1a4f-f6a2-4e19-ac39-f8c072329a76",
   "metadata": {},
   "outputs": [
    {
     "data": {
      "text/plain": [
       "124163       Post: CD953C\n",
       "107497    Post: MARB 2000\n",
       "166260       Post: CD851B\n",
       "115284       Post: CD851A\n",
       "184020        Post: CD855\n",
       "Name: TOOLTIP, dtype: object"
      ]
     },
     "execution_count": 32,
     "metadata": {},
     "output_type": "execute_result"
    }
   ],
   "source": [
    "streetlights['TOOLTIP'].sample(5)"
   ]
  },
  {
   "cell_type": "code",
   "execution_count": 33,
   "id": "a8d77e39-94a6-4955-bfe8-7e0727035cf9",
   "metadata": {},
   "outputs": [
    {
     "data": {
      "text/plain": [
       "AsBuilt               208968\n",
       "Energized               7753\n",
       "Not BSL Maintained      1902\n",
       "                           1\n",
       "Name: STATUS, dtype: int64"
      ]
     },
     "execution_count": 33,
     "metadata": {},
     "output_type": "execute_result"
    }
   ],
   "source": [
    "streetlights['STATUS'].value_counts()"
   ]
  },
  {
   "cell_type": "code",
   "execution_count": 36,
   "id": "1c1194d2-b239-4507-a606-185c32bce575",
   "metadata": {},
   "outputs": [
    {
     "data": {
      "text/plain": [
       "68W LED      22597\n",
       "70W LED      21697\n",
       "82W LED      21066\n",
       "52W LED      16775\n",
       "35W LED      15824\n",
       "             ...  \n",
       "50W MH           1\n",
       "132W LED         1\n",
       "104W LED         1\n",
       "1813W LED        1\n",
       "                 1\n",
       "Name: LAMPA, Length: 186, dtype: int64"
      ]
     },
     "execution_count": 36,
     "metadata": {},
     "output_type": "execute_result"
    }
   ],
   "source": [
    "streetlights['LAMPA'].value_counts()"
   ]
  },
  {
   "cell_type": "code",
   "execution_count": 38,
   "id": "3bec469e-77ab-463c-9eb4-450d47decf01",
   "metadata": {},
   "outputs": [],
   "source": [
    "status_count = streetlights['STATUS'].value_counts()"
   ]
  },
  {
   "cell_type": "code",
   "execution_count": 39,
   "id": "8afe90bb-ab2f-4528-92ee-2ab775ae4f48",
   "metadata": {},
   "outputs": [
    {
     "data": {
      "text/plain": [
       "pandas.core.series.Series"
      ]
     },
     "execution_count": 39,
     "metadata": {},
     "output_type": "execute_result"
    }
   ],
   "source": [
    "type(status_count)"
   ]
  },
  {
   "cell_type": "code",
   "execution_count": 40,
   "id": "0044a3ea-6795-4393-b35a-10391d4c1744",
   "metadata": {},
   "outputs": [
    {
     "data": {
      "text/html": [
       "<div>\n",
       "<style scoped>\n",
       "    .dataframe tbody tr th:only-of-type {\n",
       "        vertical-align: middle;\n",
       "    }\n",
       "\n",
       "    .dataframe tbody tr th {\n",
       "        vertical-align: top;\n",
       "    }\n",
       "\n",
       "    .dataframe thead th {\n",
       "        text-align: right;\n",
       "    }\n",
       "</style>\n",
       "<table border=\"1\" class=\"dataframe\">\n",
       "  <thead>\n",
       "    <tr style=\"text-align: right;\">\n",
       "      <th></th>\n",
       "      <th>index</th>\n",
       "      <th>STATUS</th>\n",
       "    </tr>\n",
       "  </thead>\n",
       "  <tbody>\n",
       "    <tr>\n",
       "      <th>0</th>\n",
       "      <td>AsBuilt</td>\n",
       "      <td>208968</td>\n",
       "    </tr>\n",
       "    <tr>\n",
       "      <th>1</th>\n",
       "      <td>Energized</td>\n",
       "      <td>7753</td>\n",
       "    </tr>\n",
       "    <tr>\n",
       "      <th>2</th>\n",
       "      <td>Not BSL Maintained</td>\n",
       "      <td>1902</td>\n",
       "    </tr>\n",
       "    <tr>\n",
       "      <th>3</th>\n",
       "      <td></td>\n",
       "      <td>1</td>\n",
       "    </tr>\n",
       "  </tbody>\n",
       "</table>\n",
       "</div>"
      ],
      "text/plain": [
       "                index  STATUS\n",
       "0             AsBuilt  208968\n",
       "1           Energized    7753\n",
       "2  Not BSL Maintained    1902\n",
       "3                           1"
      ]
     },
     "execution_count": 40,
     "metadata": {},
     "output_type": "execute_result"
    }
   ],
   "source": [
    "status_count = status_count.reset_index()\n",
    "status_count"
   ]
  },
  {
   "cell_type": "code",
   "execution_count": 41,
   "id": "84033156-9a60-4b7b-a1b3-b3d393cfecbd",
   "metadata": {},
   "outputs": [
    {
     "data": {
      "text/plain": [
       "pandas.core.frame.DataFrame"
      ]
     },
     "execution_count": 41,
     "metadata": {},
     "output_type": "execute_result"
    }
   ],
   "source": [
    "type(status_count)"
   ]
  },
  {
   "cell_type": "code",
   "execution_count": 43,
   "id": "9671ce04-b432-4856-b255-700c78b5e677",
   "metadata": {},
   "outputs": [
    {
     "data": {
      "text/plain": [
       "['index', 'STATUS']"
      ]
     },
     "execution_count": 43,
     "metadata": {},
     "output_type": "execute_result"
    }
   ],
   "source": [
    "status_count.columns.to_list()"
   ]
  },
  {
   "cell_type": "code",
   "execution_count": 45,
   "id": "edfb4876-9d97-4bda-84a7-120950c3c204",
   "metadata": {},
   "outputs": [],
   "source": [
    "status_count.columns = ['line','count']"
   ]
  },
  {
   "cell_type": "code",
   "execution_count": 46,
   "id": "21a9a76f-7b0d-4740-9de9-ef65527f303a",
   "metadata": {},
   "outputs": [
    {
     "data": {
      "text/plain": [
       "<AxesSubplot:>"
      ]
     },
     "execution_count": 46,
     "metadata": {},
     "output_type": "execute_result"
    },
    {
     "data": {
      "image/png": "[encoded data removed]",
      "text/plain": [
       "<Figure size 432x288 with 1 Axes>"
      ]
     },
     "metadata": {
      "needs_background": "light"
     },
     "output_type": "display_data"
    }
   ],
   "source": [
    "status_count.plot()"
   ]
  },
  {
   "cell_type": "code",
   "execution_count": 48,
   "id": "f466b268-3c1a-4e6b-8b38-b5a4fc639a9d",
   "metadata": {},
   "outputs": [
    {
     "data": {
      "text/plain": [
       "line                count \n",
       "                    1         1\n",
       "AsBuilt             208968    1\n",
       "Energized           7753      1\n",
       "Not BSL Maintained  1902      1\n",
       "dtype: int64"
      ]
     },
     "execution_count": 48,
     "metadata": {},
     "output_type": "execute_result"
    }
   ],
   "source": [
    "status_count.value_counts()"
   ]
  },
  {
   "cell_type": "code",
   "execution_count": null,
   "id": "09f4ab23-0032-44ad-868c-21a9af123fe0",
   "metadata": {},
   "outputs": [],
   "source": []
  }
 ],
 "metadata": {
  "kernelspec": {
   "display_name": "Python 3 (ipykernel)",
   "language": "python",
   "name": "python3"
  },
  "language_info": {
   "codemirror_mode": {
    "name": "ipython",
    "version": 3
   },
   "file_extension": ".py",
   "mimetype": "text/x-python",
   "name": "python",
   "nbconvert_exporter": "python",
   "pygments_lexer": "ipython3",
   "version": "3.9.6"
  }
 },
 "nbformat": 4,
 "nbformat_minor": 5
}
